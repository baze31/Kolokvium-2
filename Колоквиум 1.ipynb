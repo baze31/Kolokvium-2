{
 "cells": [
  {
   "cell_type": "markdown",
   "metadata": {},
   "source": [
    "# Краток Опис\n",
    "\n"
   ]
  },
  {
   "cell_type": "markdown",
   "metadata": {},
   "source": [
    "Kогнитивна дисоненца е ситуација кога акциите на една личност се спротиставуат на нивните верувања. Пр. Пушење\n",
    "Најпрво истражувана од Леон Фостингер, со неговата обзервација на Култ кои мислел дека ќе дојде крајот на светот, и нивното одбивање на вистината одкога поминал рокот на уништување.\n",
    "Неговата теорија е дека човечката природа пробува да ги задржи нашите акции и верувања во хармонија, доколку се наруши таа хармонија значи дека доаѓа до дисоненца и потреба од промена.\n"
   ]
  },
  {
   "cell_type": "markdown",
   "metadata": {},
   "source": [
    "### Намалување на Дисоненцата"
   ]
  },
  {
   "cell_type": "markdown",
   "metadata": {},
   "source": [
    "* Промена на мислењето\n",
    "    * Ако се промени мислењето кое ја предизвикува дисоненцата, проблемот се надминува.\n",
    "    * Но има проблем со ваквата метода оти е тешко да се променат долго годишни(вековни) навики. (Пр. Да се престане да се пуши)\n",
    "* Пронаоѓање инфомации кои ја намалуваа дисоненцата\n",
    "    * Пр. Ако мислиме дека пушењето предизвикува рак на бубрезите, доколку прочитаме научен труд кои ги сротиставува тие докази би се намалила дисоненцата.\n",
    "* Намалување на важноста на својте верувања\n",
    "    * Пр. Ако се убедиме дека животот се живее една и треба да се живее во моментот без да се мисли за иднината тогаш дали пушењето предизвикува рак во иднината не е важно.\n",
    "   "
   ]
  },
  {
   "cell_type": "markdown",
   "metadata": {},
   "source": [
    "<img src=\"smoke.png\">\n",
    "   "
   ]
  },
  {
   "cell_type": "markdown",
   "metadata": {},
   "source": [
    " \n",
    "### Трите Главни Региони на Истражување"
   ]
  },
  {
   "cell_type": "markdown",
   "metadata": {},
   "source": [
    "1. Справување со присилно понашање\n",
    "2. Правење одлуки\n",
    "3. Труд"
   ]
  },
  {
   "cell_type": "markdown",
   "metadata": {},
   "source": [
    "#### Справување со присилно понашање"
   ]
  },
  {
   "cell_type": "markdown",
   "metadata": {},
   "source": [
    "Кога некој е принуден да се понаша јавно на еден начин, а приватно несака да се понаша така. Дисоненцата се појавува помегу мислењето(нејкам да го правам ова) и акцијата (го направив ова)."
   ]
  },
  {
   "cell_type": "markdown",
   "metadata": {},
   "source": [
    "#### Правење одлуки"
   ]
  },
  {
   "cell_type": "markdown",
   "metadata": {},
   "source": [
    "Животот е полн со одлуки, а одлуки предизвикуваат дисоненца.\n",
    "Пр. Одбирање работа, доколку ти е понудена работа со голема плата но во друга држава каде ќе неможеш да ги видиш твојте пријатели и фамилија, и работа која не плаќа многу ама е блиску. Која и да било одлука да ја направиш ќе има дисоненца."
   ]
  },
  {
   "cell_type": "markdown",
   "metadata": {},
   "source": [
    "#### Труд"
   ]
  },
  {
   "cell_type": "markdown",
   "metadata": {},
   "source": [
    "Може да поминеме години учење некоја вештина или сл. И потоа таа да стане бескорисна. Дисоненцата може овде да се намали ако се убедиме дека не беше многу труд или пак дека иако е бескорисна вештина беше интересно да се научи."
   ]
  },
  {
   "cell_type": "markdown",
   "metadata": {},
   "source": [
    "### Методи"
   ]
  },
  {
   "cell_type": "markdown",
   "metadata": {},
   "source": [
    "Најчето експериментите за докажување на когнитивна дисоненца се со споредувачки статистички тест, каде се споредуваат искуствата на повеќе групи на луѓе кои се ставаат во различни ситуации."
   ]
  },
  {
   "cell_type": "markdown",
   "metadata": {},
   "source": [
    "### Заклучок"
   ]
  },
  {
   "cell_type": "markdown",
   "metadata": {},
   "source": [
    "Иако когнитивната дисоненца предизвикува проблеми во животите на луќето, таа е дел од човечката природа. Доколку направиш грешна одлука, сгрешиш прашање на тест и сл. таа секогаш ќе се појави, но тоа не предизвикува негативни ефекти во голем број на популацијата која може да се справи со дисоненцата. Но има групи од луѓе кои неможат да се справат."
   ]
  },
  {
   "cell_type": "markdown",
   "metadata": {},
   "source": [
    "### Youtube видеа кои помагаат со визуализација на примерите.\n"
   ]
  },
  {
   "cell_type": "markdown",
   "metadata": {},
   "source": [
    "#### Festinger and Carlsmith experiment \n"
   ]
  },
  {
   "cell_type": "markdown",
   "metadata": {},
   "source": [
    "<video controls src=\"videoplayback (1).mp4\" height=\"340\"/>"
   ]
  },
  {
   "cell_type": "markdown",
   "metadata": {},
   "source": [
    "<a href=\"https://www.youtube.com/watch?v=WIpacdGcyJc&ab_channel=ComunicationTheory\">Link</a>"
   ]
  },
  {
   "cell_type": "markdown",
   "metadata": {},
   "source": [
    "#### Главниот принцип на когнитивна дисоненца"
   ]
  },
  {
   "cell_type": "markdown",
   "metadata": {},
   "source": [
    "<video controls src=\"videoplayback.mp4\" height=\"340\"/>"
   ]
  },
  {
   "cell_type": "markdown",
   "metadata": {},
   "source": [
    "<a href=\"https://www.youtube.com/watch?v=FT8eIAMLbo4&t=89s&ab_channel=khanacademymedicine\">Link</a>"
   ]
  },
  {
   "cell_type": "markdown",
   "metadata": {},
   "source": [
    "*ЗАБЕЛЕШКА: Незнам дали е до само мојот browser, но на GitHub не ги покажува видеата. Испробав со симињање на зипот и отварање со notebookot супер ги покажува видеата. За секој слуцај ќе додадам линкови до видеата на youtube."
   ]
  },
  {
   "cell_type": "markdown",
   "metadata": {},
   "source": [
    "## Дополнителни линкови"
   ]
  },
  {
   "cell_type": "markdown",
   "metadata": {},
   "source": [
    "Когнитивна дисоненца за време на Ковид:  <a href=\"https://www.theatlantic.com/ideas/archive/2020/07/role-cognitive-dissonance-pandemic/614074/\">Link</a>"
   ]
  },
  {
   "cell_type": "markdown",
   "metadata": {},
   "source": [
    "\n"
   ]
  },
  {
   "cell_type": "code",
   "execution_count": null,
   "metadata": {},
   "outputs": [],
   "source": []
  }
 ],
 "metadata": {
  "kernelspec": {
   "display_name": "Python 3",
   "language": "python",
   "name": "python3"
  },
  "language_info": {
   "codemirror_mode": {
    "name": "ipython",
    "version": 3
   },
   "file_extension": ".py",
   "mimetype": "text/x-python",
   "name": "python",
   "nbconvert_exporter": "python",
   "pygments_lexer": "ipython3",
   "version": "3.8.5"
  }
 },
 "nbformat": 4,
 "nbformat_minor": 4
}
